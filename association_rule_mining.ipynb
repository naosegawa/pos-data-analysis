{
 "metadata": {
  "language_info": {
   "codemirror_mode": {
    "name": "ipython",
    "version": 3
   },
   "file_extension": ".py",
   "mimetype": "text/x-python",
   "name": "python",
   "nbconvert_exporter": "python",
   "pygments_lexer": "ipython3",
   "version": "3.9.0-final"
  },
  "orig_nbformat": 2,
  "kernelspec": {
   "name": "python3",
   "display_name": "Python 3",
   "language": "python"
  }
 },
 "nbformat": 4,
 "nbformat_minor": 2,
 "cells": [
  {
   "source": [
    "# Association rule mining using apriori algorithm\n",
    "Using Lido's transaction data in 2019, find out what items customers tend to order together."
   ],
   "cell_type": "markdown",
   "metadata": {}
  },
  {
   "cell_type": "code",
   "execution_count": 1,
   "metadata": {},
   "outputs": [],
   "source": [
    "import numpy as np\n",
    "import pandas as pd\n",
    "import matplotlib.pyplot as plt\n",
    "from apyori import apriori"
   ]
  },
  {
   "cell_type": "code",
   "execution_count": 2,
   "metadata": {},
   "outputs": [],
   "source": [
    "#load csv files as dataframe\n",
    "menu_items = pd.read_csv(\"data/menu_items.csv\", index_col=\"Id\")\n",
    "transactions = pd.read_csv(\"data/transactions.csv\", index_col=\"Id\")\n",
    "cols = ['Date', 'Time', 'DayOfWeek', 'isHoliday', 'Price', 'Quantity', 'MenuItemId', 'TransactionId', 'Store']\n",
    "transaction_products = pd.read_csv(\"data/transaction_products.csv\", usecols=cols)"
   ]
  },
  {
   "cell_type": "code",
   "execution_count": 3,
   "metadata": {},
   "outputs": [
    {
     "output_type": "display_data",
     "data": {
      "text/plain": "                         Name  Price  Category  IsActive\nId                                                      \n5       Beef Broccoli - Mucho  320.0        12      True\n6       Beef Ampalaya - Mucho  295.0        12      True\n7   Beef Sotanghon in Hot Pot  295.0        12      True\n8         Iced Tea Bottomless   95.0        24      True\n9            Lido Iced Coffee  140.0        24      True",
      "text/html": "<div>\n<style scoped>\n    .dataframe tbody tr th:only-of-type {\n        vertical-align: middle;\n    }\n\n    .dataframe tbody tr th {\n        vertical-align: top;\n    }\n\n    .dataframe thead th {\n        text-align: right;\n    }\n</style>\n<table border=\"1\" class=\"dataframe\">\n  <thead>\n    <tr style=\"text-align: right;\">\n      <th></th>\n      <th>Name</th>\n      <th>Price</th>\n      <th>Category</th>\n      <th>IsActive</th>\n    </tr>\n    <tr>\n      <th>Id</th>\n      <th></th>\n      <th></th>\n      <th></th>\n      <th></th>\n    </tr>\n  </thead>\n  <tbody>\n    <tr>\n      <th>5</th>\n      <td>Beef Broccoli - Mucho</td>\n      <td>320.0</td>\n      <td>12</td>\n      <td>True</td>\n    </tr>\n    <tr>\n      <th>6</th>\n      <td>Beef Ampalaya - Mucho</td>\n      <td>295.0</td>\n      <td>12</td>\n      <td>True</td>\n    </tr>\n    <tr>\n      <th>7</th>\n      <td>Beef Sotanghon in Hot Pot</td>\n      <td>295.0</td>\n      <td>12</td>\n      <td>True</td>\n    </tr>\n    <tr>\n      <th>8</th>\n      <td>Iced Tea Bottomless</td>\n      <td>95.0</td>\n      <td>24</td>\n      <td>True</td>\n    </tr>\n    <tr>\n      <th>9</th>\n      <td>Lido Iced Coffee</td>\n      <td>140.0</td>\n      <td>24</td>\n      <td>True</td>\n    </tr>\n  </tbody>\n</table>\n</div>"
     },
     "metadata": {}
    },
    {
     "output_type": "stream",
     "name": "stdout",
     "text": [
      "\n<class 'pandas.core.frame.DataFrame'>\nInt64Index: 446 entries, 5 to 450\nData columns (total 4 columns):\n #   Column    Non-Null Count  Dtype  \n---  ------    --------------  -----  \n 0   Name      446 non-null    object \n 1   Price     446 non-null    float64\n 2   Category  446 non-null    int64  \n 3   IsActive  446 non-null    bool   \ndtypes: bool(1), float64(1), int64(1), object(1)\nmemory usage: 14.4+ KB\n"
     ]
    },
    {
     "output_type": "display_data",
     "data": {
      "text/plain": "None"
     },
     "metadata": {}
    }
   ],
   "source": [
    "#check the data in menu_items\n",
    "display(menu_items.head())\n",
    "print()\n",
    "display(menu_items.info())"
   ]
  },
  {
   "cell_type": "code",
   "execution_count": 4,
   "metadata": {},
   "outputs": [
    {
     "output_type": "display_data",
     "data": {
      "text/plain": "             Date             Time DayOfWeek  isHoliday  Store  Type  \\\nId                                                                     \n42626  2019-01-01  09:03:57.763000   Tuesday      False     13     1   \n42627  2019-01-01  09:58:05.643000   Tuesday      False     13     1   \n42628  2019-01-01  10:00:36.140000   Tuesday      False     13     2   \n42629  2019-01-01  10:36:46.447000   Tuesday      False     13     1   \n42630  2019-01-01  11:03:01.163000   Tuesday      False     13     1   \n\n       HeadCount   Gross  \nId                        \n42626          1  2720.0  \n42627          1  1365.0  \n42628          1   952.0  \n42629          1   205.0  \n42630          1  1030.0  ",
      "text/html": "<div>\n<style scoped>\n    .dataframe tbody tr th:only-of-type {\n        vertical-align: middle;\n    }\n\n    .dataframe tbody tr th {\n        vertical-align: top;\n    }\n\n    .dataframe thead th {\n        text-align: right;\n    }\n</style>\n<table border=\"1\" class=\"dataframe\">\n  <thead>\n    <tr style=\"text-align: right;\">\n      <th></th>\n      <th>Date</th>\n      <th>Time</th>\n      <th>DayOfWeek</th>\n      <th>isHoliday</th>\n      <th>Store</th>\n      <th>Type</th>\n      <th>HeadCount</th>\n      <th>Gross</th>\n    </tr>\n    <tr>\n      <th>Id</th>\n      <th></th>\n      <th></th>\n      <th></th>\n      <th></th>\n      <th></th>\n      <th></th>\n      <th></th>\n      <th></th>\n    </tr>\n  </thead>\n  <tbody>\n    <tr>\n      <th>42626</th>\n      <td>2019-01-01</td>\n      <td>09:03:57.763000</td>\n      <td>Tuesday</td>\n      <td>False</td>\n      <td>13</td>\n      <td>1</td>\n      <td>1</td>\n      <td>2720.0</td>\n    </tr>\n    <tr>\n      <th>42627</th>\n      <td>2019-01-01</td>\n      <td>09:58:05.643000</td>\n      <td>Tuesday</td>\n      <td>False</td>\n      <td>13</td>\n      <td>1</td>\n      <td>1</td>\n      <td>1365.0</td>\n    </tr>\n    <tr>\n      <th>42628</th>\n      <td>2019-01-01</td>\n      <td>10:00:36.140000</td>\n      <td>Tuesday</td>\n      <td>False</td>\n      <td>13</td>\n      <td>2</td>\n      <td>1</td>\n      <td>952.0</td>\n    </tr>\n    <tr>\n      <th>42629</th>\n      <td>2019-01-01</td>\n      <td>10:36:46.447000</td>\n      <td>Tuesday</td>\n      <td>False</td>\n      <td>13</td>\n      <td>1</td>\n      <td>1</td>\n      <td>205.0</td>\n    </tr>\n    <tr>\n      <th>42630</th>\n      <td>2019-01-01</td>\n      <td>11:03:01.163000</td>\n      <td>Tuesday</td>\n      <td>False</td>\n      <td>13</td>\n      <td>1</td>\n      <td>1</td>\n      <td>1030.0</td>\n    </tr>\n  </tbody>\n</table>\n</div>"
     },
     "metadata": {}
    },
    {
     "output_type": "stream",
     "name": "stdout",
     "text": [
      "\n<class 'pandas.core.frame.DataFrame'>\nInt64Index: 292186 entries, 42626 to 344152\nData columns (total 8 columns):\n #   Column     Non-Null Count   Dtype  \n---  ------     --------------   -----  \n 0   Date       292186 non-null  object \n 1   Time       292186 non-null  object \n 2   DayOfWeek  292186 non-null  object \n 3   isHoliday  292186 non-null  bool   \n 4   Store      292186 non-null  int64  \n 5   Type       292186 non-null  int64  \n 6   HeadCount  292186 non-null  int64  \n 7   Gross      292186 non-null  float64\ndtypes: bool(1), float64(1), int64(3), object(3)\nmemory usage: 18.1+ MB\n"
     ]
    },
    {
     "output_type": "display_data",
     "data": {
      "text/plain": "None"
     },
     "metadata": {}
    }
   ],
   "source": [
    "#check the data in transactions\n",
    "display(transactions.head())\n",
    "print()\n",
    "display(transactions.info())"
   ]
  },
  {
   "cell_type": "code",
   "execution_count": 5,
   "metadata": {},
   "outputs": [
    {
     "output_type": "display_data",
     "data": {
      "text/plain": "         Date             Time DayOfWeek  isHoliday  Price  Quantity  \\\n0  2019-01-01  09:04:26.933000   Tuesday      False  255.0       4.0   \n1  2019-01-01  09:04:26.947000   Tuesday      False  340.0       5.0   \n2  2019-01-01  09:58:51.460000   Tuesday      False  630.0       1.0   \n3  2019-01-01  09:58:51.477000   Tuesday      False  215.0       1.0   \n4  2019-01-01  09:58:51.477000   Tuesday      False  520.0       1.0   \n\n   MenuItemId  TransactionId  Store  \n0          39          42626   13.0  \n1          91          42626   13.0  \n2          31          42627   13.0  \n3         166          42627   13.0  \n4         188          42627   13.0  ",
      "text/html": "<div>\n<style scoped>\n    .dataframe tbody tr th:only-of-type {\n        vertical-align: middle;\n    }\n\n    .dataframe tbody tr th {\n        vertical-align: top;\n    }\n\n    .dataframe thead th {\n        text-align: right;\n    }\n</style>\n<table border=\"1\" class=\"dataframe\">\n  <thead>\n    <tr style=\"text-align: right;\">\n      <th></th>\n      <th>Date</th>\n      <th>Time</th>\n      <th>DayOfWeek</th>\n      <th>isHoliday</th>\n      <th>Price</th>\n      <th>Quantity</th>\n      <th>MenuItemId</th>\n      <th>TransactionId</th>\n      <th>Store</th>\n    </tr>\n  </thead>\n  <tbody>\n    <tr>\n      <th>0</th>\n      <td>2019-01-01</td>\n      <td>09:04:26.933000</td>\n      <td>Tuesday</td>\n      <td>False</td>\n      <td>255.0</td>\n      <td>4.0</td>\n      <td>39</td>\n      <td>42626</td>\n      <td>13.0</td>\n    </tr>\n    <tr>\n      <th>1</th>\n      <td>2019-01-01</td>\n      <td>09:04:26.947000</td>\n      <td>Tuesday</td>\n      <td>False</td>\n      <td>340.0</td>\n      <td>5.0</td>\n      <td>91</td>\n      <td>42626</td>\n      <td>13.0</td>\n    </tr>\n    <tr>\n      <th>2</th>\n      <td>2019-01-01</td>\n      <td>09:58:51.460000</td>\n      <td>Tuesday</td>\n      <td>False</td>\n      <td>630.0</td>\n      <td>1.0</td>\n      <td>31</td>\n      <td>42627</td>\n      <td>13.0</td>\n    </tr>\n    <tr>\n      <th>3</th>\n      <td>2019-01-01</td>\n      <td>09:58:51.477000</td>\n      <td>Tuesday</td>\n      <td>False</td>\n      <td>215.0</td>\n      <td>1.0</td>\n      <td>166</td>\n      <td>42627</td>\n      <td>13.0</td>\n    </tr>\n    <tr>\n      <th>4</th>\n      <td>2019-01-01</td>\n      <td>09:58:51.477000</td>\n      <td>Tuesday</td>\n      <td>False</td>\n      <td>520.0</td>\n      <td>1.0</td>\n      <td>188</td>\n      <td>42627</td>\n      <td>13.0</td>\n    </tr>\n  </tbody>\n</table>\n</div>"
     },
     "metadata": {}
    },
    {
     "output_type": "stream",
     "name": "stdout",
     "text": [
      "\n",
      "<class 'pandas.core.frame.DataFrame'>\n",
      "RangeIndex: 1050058 entries, 0 to 1050057\n",
      "Data columns (total 9 columns):\n",
      " #   Column         Non-Null Count    Dtype  \n",
      "---  ------         --------------    -----  \n",
      " 0   Date           1050058 non-null  object \n",
      " 1   Time           1050058 non-null  object \n",
      " 2   DayOfWeek      1050058 non-null  object \n",
      " 3   isHoliday      1050058 non-null  bool   \n",
      " 4   Price          1050058 non-null  float64\n",
      " 5   Quantity       1050058 non-null  float64\n",
      " 6   MenuItemId     1050058 non-null  int64  \n",
      " 7   TransactionId  1050058 non-null  int64  \n",
      " 8   Store          1050058 non-null  float64\n",
      "dtypes: bool(1), float64(3), int64(2), object(3)\n",
      "memory usage: 65.1+ MB\n"
     ]
    },
    {
     "output_type": "display_data",
     "data": {
      "text/plain": "None"
     },
     "metadata": {}
    }
   ],
   "source": [
    "#check the data in transaction_pro\n",
    "display(transaction_products.head())\n",
    "print()\n",
    "display(transaction_products.info())"
   ]
  },
  {
   "cell_type": "code",
   "execution_count": 6,
   "metadata": {},
   "outputs": [
    {
     "output_type": "execute_result",
     "data": {
      "text/plain": [
       "[[39, 91], [31, 166, 188], [104, 167, 91], [132, 118], [37, 36, 130, 102]]"
      ]
     },
     "metadata": {},
     "execution_count": 6
    }
   ],
   "source": [
    "#preprocess transaction products data\n",
    "#only retain relevant columns\n",
    "data = transaction_products[['MenuItemId','TransactionId']]\n",
    "\n",
    "#group by transaction id to see which items were ordered together\n",
    "grouped = data.groupby('TransactionId')\n",
    "\n",
    "#convert df to a list of list (required input format for using apyori)\n",
    "transactions = [list(grouped.get_group(k)['MenuItemId']) for k in grouped.groups.keys()]\n",
    "transactions[:5]"
   ]
  },
  {
   "cell_type": "code",
   "execution_count": 7,
   "metadata": {},
   "outputs": [
    {
     "output_type": "execute_result",
     "data": {
      "text/plain": [
       "RelationRecord(items=frozenset({10, 11}), support=0.002204083029587419, ordered_statistics=[OrderedStatistic(items_base=frozenset({11}), items_add=frozenset({10}), confidence=0.20827943078913325, lift=3.7443010819616624)])"
      ]
     },
     "metadata": {},
     "execution_count": 7
    }
   ],
   "source": [
    "#apply apriori algorithm\n",
    "'''\n",
    "[parameters]\n",
    "min_support=0.0017\n",
    " -> items that are purchased at least 5 times a day\n",
    "    = 5*365/total number of transaction products in 2019\n",
    "min_confidence=.2\n",
    " -> items are purchased together at least 20% of the time\n",
    "min_lift=3\n",
    " -> items are at least 3 times more likely to be bought together\n",
    "min_length=2\n",
    " -> minimum number of items in the rule is 2\n",
    "'''\n",
    "\n",
    "association_results = list(apriori(transactions, min_support=.0017, min_confidence=.2, min_lift=3, min_length=2))\n",
    "association_results[0]"
   ]
  },
  {
   "cell_type": "code",
   "execution_count": 8,
   "metadata": {},
   "outputs": [],
   "source": [
    "def get_result_table(results):\n",
    "    res_dict = {}\n",
    "    for i, item in enumerate(association_results):\n",
    "        products = list(item[0])\n",
    "        base_item = products[0]\n",
    "        added_item = products[1]\n",
    "        support = item[1]\n",
    "        confidence = item[2][0][2]\n",
    "        lift = item[2][0][3]\n",
    "\n",
    "        res_dict[i] = {\n",
    "            'base_item':base_item,\n",
    "            'added_item':added_item,\n",
    "            'support':support,\n",
    "            'confidence':confidence,\n",
    "            'lift':lift\n",
    "        }    \n",
    "    return res_dict\n",
    "\n",
    "def get_result(results):\n",
    "    #convert result to df\n",
    "    res_dict = get_result_table(results)\n",
    "    res_df = pd.DataFrame.from_dict(res_dict, orient='index')\n",
    "\n",
    "    #sort by lift column (descending)\n",
    "    res_df = res_df.sort_values(by='lift', ascending=False, ignore_index=True)\n",
    "\n",
    "    #replace base_item with actual item names\n",
    "    res_df = res_df.merge(menu_items['Name'],how='left',left_on='base_item',right_index=True)\n",
    "    res_df.drop(columns='base_item',inplace=True)\n",
    "    res_df.rename(columns={'Name':'base_item'},inplace=True)\n",
    "\n",
    "    #replace added_item with actual item names\n",
    "    res_df = res_df.merge(menu_items['Name'],how='left',left_on='added_item',right_index=True)\n",
    "    res_df.drop(columns='added_item',inplace=True)\n",
    "    res_df.rename(columns={'Name':'added_item'},inplace=True)\n",
    "\n",
    "    #rearrange the order of columns\n",
    "    cols = ['base_item','added_item','support','confidence','lift']\n",
    "    res_df = res_df[cols]\n",
    "\n",
    "    return res_df"
   ]
  },
  {
   "cell_type": "code",
   "execution_count": 9,
   "metadata": {},
   "outputs": [
    {
     "output_type": "execute_result",
     "data": {
      "text/plain": [
       "                             base_item                          added_item  \\\n",
       "0                     Kung pao chicken                   Mango jello promo   \n",
       "1     BF Daing na Bangus - Garlic Rice              Upgrade: Hot chocolate   \n",
       "2               Upgrade: Hot chocolate      BF Classic Medley - Plain Rice   \n",
       "3               Upgrade: Hot chocolate          BF Beef Tapa - Garlic Rice   \n",
       "4                   Iced tea - pitcher       Yangchow Fried Rice - Familia   \n",
       "5         Drunken Lechon Macau - Mucho       Yangchow Fried Rice - Familia   \n",
       "6                Fried Chicken (whole)       Yangchow Fried Rice - Familia   \n",
       "7   Iced tea - toppings upgrade (12oz)   Spareribs in Salt and Pepper Rice   \n",
       "8                         Siopao Asado                    Siopao Bola-bola   \n",
       "9   Iced tea - toppings upgrade (12oz)  Beef with Tomato and Mushroom Rice   \n",
       "10    BF Daing na Bangus - Garlic Rice              Upgrade: Hot chocolate   \n",
       "11        Drunken Lechon Macau - Mucho           Lumpiang Shanghai - Mucho   \n",
       "12                          BF Primera      BF Classic Medley - Plain Rice   \n",
       "13        Drunken Lechon Macau - Mucho       Yangchow Fried Rice - Familia   \n",
       "14        Drunken Lechon Macau - Mucho        Pugon-Roasted Asado 1/4 kilo   \n",
       "15           Lychee Tutti Frutti Jelly                  Mango Jello cooler   \n",
       "16    BF Daing na Bangus - Garlic Rice          BF Beef Tapa - Garlic Rice   \n",
       "17    BF Daing na Bangus - Garlic Rice                       Coffee Refill   \n",
       "18                     Side - Pandesal            Lido House Brewed Coffee   \n",
       "19                Pinipig Jelly cooler        Buko Shake with pandan jelly   \n",
       "20    BF Daing na Bangus - Garlic Rice         BF Longganisa - Garlic Rice   \n",
       "21    BF Daing na Bangus - Garlic Rice      BF Classic Medley - Plain Rice   \n",
       "22    BF Daing na Bangus - Garlic Rice             BF gourmet tuyo g. rice   \n",
       "23        Drunken Lechon Macau - Mucho       Yangchow Fried Rice - Familia   \n",
       "24        Drunken Lechon Macau - Mucho                        BFFR familia   \n",
       "25            Manchurian Wings - Mucho                        BFFR familia   \n",
       "26        Drunken Lechon Macau - Mucho                  Iced tea - pitcher   \n",
       "27                  Iced tea - pitcher            Manchurian Wings - Mucho   \n",
       "28           Lumpiang Shanghai - Mucho       Yangchow Fried Rice - Familia   \n",
       "29            Lido House Brewed Coffee          Lido Special Hot Chocolate   \n",
       "30           Lumpiang Shanghai - Mucho       Yangchow Fried Rice - Familia   \n",
       "31        Drunken Lechon Macau - Mucho         Yangchow Fried Rice - Mucho   \n",
       "32           Lumpiang Shanghai - Mucho                  Iced tea - pitcher   \n",
       "33           Lumpiang Shanghai - Mucho       Yangchow Fried Rice - Familia   \n",
       "34        Drunken Lechon Macau - Mucho         Yangchow Fried Rice - Mucho   \n",
       "35         Yangchow Fried Rice - Mucho                         Pork Siomai   \n",
       "36         Yangchow Fried Rice - Mucho        Pugon-Roasted Asado 1/4 kilo   \n",
       "37       Yangchow Fried Rice - Familia            Manchurian Wings - Mucho   \n",
       "38        Drunken Lechon Macau - Mucho         Yangchow Fried Rice - Mucho   \n",
       "39         Yangchow Fried Rice - Mucho        Pugon-Roasted Asado 1/4 kilo   \n",
       "40           Lumpiang Shanghai - Mucho        Pugon-Roasted Asado 1/4 kilo   \n",
       "41           Lumpiang Shanghai - Mucho               Garlic Rice - Familia   \n",
       "42           Lumpiang Shanghai - Mucho         Yangchow Fried Rice - Mucho   \n",
       "43           Lumpiang Shanghai - Mucho                        BFFR familia   \n",
       "44        Drunken Lechon Macau - Mucho         Yangchow Fried Rice - Mucho   \n",
       "45               Fried Chicken (whole)        Drunken Lechon Macau - Mucho   \n",
       "46        Drunken Lechon Macau - Mucho         Yangchow Fried Rice - Mucho   \n",
       "\n",
       "     support  confidence       lift  \n",
       "0   0.003460    0.249199  71.524740  \n",
       "1   0.001800    0.332911  11.501917  \n",
       "2   0.004846    0.326870  11.293184  \n",
       "3   0.004076    0.274931  11.158583  \n",
       "4   0.003974    0.280503  10.479304  \n",
       "5   0.001797    0.251316   9.388938  \n",
       "6   0.003823    0.246524   9.209896  \n",
       "7   0.002454    0.265261   9.147319  \n",
       "8   0.006092    0.291469   9.100536  \n",
       "9   0.002030    0.219386   8.694054  \n",
       "10  0.005408    0.364728   8.135578  \n",
       "11  0.002991    0.215909   8.066155  \n",
       "12  0.002533    0.226577   7.828114  \n",
       "13  0.001852    0.202698   7.572588  \n",
       "14  0.002293    0.202478   7.564386  \n",
       "15  0.003337    0.251418   7.182308  \n",
       "16  0.006913    0.280595   6.258914  \n",
       "17  0.001735    0.269251   6.005891  \n",
       "18  0.002984    0.313782   5.640951  \n",
       "19  0.005199    0.264128   5.581819  \n",
       "20  0.005182    0.245381   5.473442  \n",
       "21  0.006777    0.234126   5.222382  \n",
       "22  0.002139    0.227936   5.084314  \n",
       "23  0.008744    0.326685   4.525738  \n",
       "24  0.002249    0.322059   4.461655  \n",
       "25  0.002016    0.288725   4.339348  \n",
       "26  0.004367    0.308287   4.270866  \n",
       "27  0.003556    0.251027   3.772762  \n",
       "28  0.001930    0.376502   3.765213  \n",
       "29  0.002204    0.208279   3.744301  \n",
       "30  0.002016    0.351642   3.516598  \n",
       "31  0.002030    0.249684   3.459010  \n",
       "32  0.004726    0.333655   3.336726  \n",
       "33  0.008912    0.332950   3.329668  \n",
       "34  0.001831    0.349217   3.326028  \n",
       "35  0.001899    0.315162   3.246336  \n",
       "36  0.001708    0.339456   3.233062  \n",
       "37  0.005733    0.214167   3.218784  \n",
       "38  0.001947    0.332943   3.171035  \n",
       "39  0.001845    0.332101   3.163014  \n",
       "40  0.002122    0.314402   3.144178  \n",
       "41  0.001804    0.309818   3.098337  \n",
       "42  0.001763    0.322884   3.075229  \n",
       "43  0.002146    0.307353   3.073687  \n",
       "44  0.002971    0.319941   3.047199  \n",
       "45  0.003378    0.217833   3.017754  \n",
       "46  0.002119    0.315494   3.004848  "
      ],
      "text/html": "<div>\n<style scoped>\n    .dataframe tbody tr th:only-of-type {\n        vertical-align: middle;\n    }\n\n    .dataframe tbody tr th {\n        vertical-align: top;\n    }\n\n    .dataframe thead th {\n        text-align: right;\n    }\n</style>\n<table border=\"1\" class=\"dataframe\">\n  <thead>\n    <tr style=\"text-align: right;\">\n      <th></th>\n      <th>base_item</th>\n      <th>added_item</th>\n      <th>support</th>\n      <th>confidence</th>\n      <th>lift</th>\n    </tr>\n  </thead>\n  <tbody>\n    <tr>\n      <th>0</th>\n      <td>Kung pao chicken</td>\n      <td>Mango jello promo</td>\n      <td>0.003460</td>\n      <td>0.249199</td>\n      <td>71.524740</td>\n    </tr>\n    <tr>\n      <th>1</th>\n      <td>BF Daing na Bangus - Garlic Rice</td>\n      <td>Upgrade: Hot chocolate</td>\n      <td>0.001800</td>\n      <td>0.332911</td>\n      <td>11.501917</td>\n    </tr>\n    <tr>\n      <th>2</th>\n      <td>Upgrade: Hot chocolate</td>\n      <td>BF Classic Medley - Plain Rice</td>\n      <td>0.004846</td>\n      <td>0.326870</td>\n      <td>11.293184</td>\n    </tr>\n    <tr>\n      <th>3</th>\n      <td>Upgrade: Hot chocolate</td>\n      <td>BF Beef Tapa - Garlic Rice</td>\n      <td>0.004076</td>\n      <td>0.274931</td>\n      <td>11.158583</td>\n    </tr>\n    <tr>\n      <th>4</th>\n      <td>Iced tea - pitcher</td>\n      <td>Yangchow Fried Rice - Familia</td>\n      <td>0.003974</td>\n      <td>0.280503</td>\n      <td>10.479304</td>\n    </tr>\n    <tr>\n      <th>5</th>\n      <td>Drunken Lechon Macau - Mucho</td>\n      <td>Yangchow Fried Rice - Familia</td>\n      <td>0.001797</td>\n      <td>0.251316</td>\n      <td>9.388938</td>\n    </tr>\n    <tr>\n      <th>6</th>\n      <td>Fried Chicken (whole)</td>\n      <td>Yangchow Fried Rice - Familia</td>\n      <td>0.003823</td>\n      <td>0.246524</td>\n      <td>9.209896</td>\n    </tr>\n    <tr>\n      <th>7</th>\n      <td>Iced tea - toppings upgrade (12oz)</td>\n      <td>Spareribs in Salt and Pepper Rice</td>\n      <td>0.002454</td>\n      <td>0.265261</td>\n      <td>9.147319</td>\n    </tr>\n    <tr>\n      <th>8</th>\n      <td>Siopao Asado</td>\n      <td>Siopao Bola-bola</td>\n      <td>0.006092</td>\n      <td>0.291469</td>\n      <td>9.100536</td>\n    </tr>\n    <tr>\n      <th>9</th>\n      <td>Iced tea - toppings upgrade (12oz)</td>\n      <td>Beef with Tomato and Mushroom Rice</td>\n      <td>0.002030</td>\n      <td>0.219386</td>\n      <td>8.694054</td>\n    </tr>\n    <tr>\n      <th>10</th>\n      <td>BF Daing na Bangus - Garlic Rice</td>\n      <td>Upgrade: Hot chocolate</td>\n      <td>0.005408</td>\n      <td>0.364728</td>\n      <td>8.135578</td>\n    </tr>\n    <tr>\n      <th>11</th>\n      <td>Drunken Lechon Macau - Mucho</td>\n      <td>Lumpiang Shanghai - Mucho</td>\n      <td>0.002991</td>\n      <td>0.215909</td>\n      <td>8.066155</td>\n    </tr>\n    <tr>\n      <th>12</th>\n      <td>BF Primera</td>\n      <td>BF Classic Medley - Plain Rice</td>\n      <td>0.002533</td>\n      <td>0.226577</td>\n      <td>7.828114</td>\n    </tr>\n    <tr>\n      <th>13</th>\n      <td>Drunken Lechon Macau - Mucho</td>\n      <td>Yangchow Fried Rice - Familia</td>\n      <td>0.001852</td>\n      <td>0.202698</td>\n      <td>7.572588</td>\n    </tr>\n    <tr>\n      <th>14</th>\n      <td>Drunken Lechon Macau - Mucho</td>\n      <td>Pugon-Roasted Asado 1/4 kilo</td>\n      <td>0.002293</td>\n      <td>0.202478</td>\n      <td>7.564386</td>\n    </tr>\n    <tr>\n      <th>15</th>\n      <td>Lychee Tutti Frutti Jelly</td>\n      <td>Mango Jello cooler</td>\n      <td>0.003337</td>\n      <td>0.251418</td>\n      <td>7.182308</td>\n    </tr>\n    <tr>\n      <th>16</th>\n      <td>BF Daing na Bangus - Garlic Rice</td>\n      <td>BF Beef Tapa - Garlic Rice</td>\n      <td>0.006913</td>\n      <td>0.280595</td>\n      <td>6.258914</td>\n    </tr>\n    <tr>\n      <th>17</th>\n      <td>BF Daing na Bangus - Garlic Rice</td>\n      <td>Coffee Refill</td>\n      <td>0.001735</td>\n      <td>0.269251</td>\n      <td>6.005891</td>\n    </tr>\n    <tr>\n      <th>18</th>\n      <td>Side - Pandesal</td>\n      <td>Lido House Brewed Coffee</td>\n      <td>0.002984</td>\n      <td>0.313782</td>\n      <td>5.640951</td>\n    </tr>\n    <tr>\n      <th>19</th>\n      <td>Pinipig Jelly cooler</td>\n      <td>Buko Shake with pandan jelly</td>\n      <td>0.005199</td>\n      <td>0.264128</td>\n      <td>5.581819</td>\n    </tr>\n    <tr>\n      <th>20</th>\n      <td>BF Daing na Bangus - Garlic Rice</td>\n      <td>BF Longganisa - Garlic Rice</td>\n      <td>0.005182</td>\n      <td>0.245381</td>\n      <td>5.473442</td>\n    </tr>\n    <tr>\n      <th>21</th>\n      <td>BF Daing na Bangus - Garlic Rice</td>\n      <td>BF Classic Medley - Plain Rice</td>\n      <td>0.006777</td>\n      <td>0.234126</td>\n      <td>5.222382</td>\n    </tr>\n    <tr>\n      <th>22</th>\n      <td>BF Daing na Bangus - Garlic Rice</td>\n      <td>BF gourmet tuyo g. rice</td>\n      <td>0.002139</td>\n      <td>0.227936</td>\n      <td>5.084314</td>\n    </tr>\n    <tr>\n      <th>23</th>\n      <td>Drunken Lechon Macau - Mucho</td>\n      <td>Yangchow Fried Rice - Familia</td>\n      <td>0.008744</td>\n      <td>0.326685</td>\n      <td>4.525738</td>\n    </tr>\n    <tr>\n      <th>24</th>\n      <td>Drunken Lechon Macau - Mucho</td>\n      <td>BFFR familia</td>\n      <td>0.002249</td>\n      <td>0.322059</td>\n      <td>4.461655</td>\n    </tr>\n    <tr>\n      <th>25</th>\n      <td>Manchurian Wings - Mucho</td>\n      <td>BFFR familia</td>\n      <td>0.002016</td>\n      <td>0.288725</td>\n      <td>4.339348</td>\n    </tr>\n    <tr>\n      <th>26</th>\n      <td>Drunken Lechon Macau - Mucho</td>\n      <td>Iced tea - pitcher</td>\n      <td>0.004367</td>\n      <td>0.308287</td>\n      <td>4.270866</td>\n    </tr>\n    <tr>\n      <th>27</th>\n      <td>Iced tea - pitcher</td>\n      <td>Manchurian Wings - Mucho</td>\n      <td>0.003556</td>\n      <td>0.251027</td>\n      <td>3.772762</td>\n    </tr>\n    <tr>\n      <th>28</th>\n      <td>Lumpiang Shanghai - Mucho</td>\n      <td>Yangchow Fried Rice - Familia</td>\n      <td>0.001930</td>\n      <td>0.376502</td>\n      <td>3.765213</td>\n    </tr>\n    <tr>\n      <th>29</th>\n      <td>Lido House Brewed Coffee</td>\n      <td>Lido Special Hot Chocolate</td>\n      <td>0.002204</td>\n      <td>0.208279</td>\n      <td>3.744301</td>\n    </tr>\n    <tr>\n      <th>30</th>\n      <td>Lumpiang Shanghai - Mucho</td>\n      <td>Yangchow Fried Rice - Familia</td>\n      <td>0.002016</td>\n      <td>0.351642</td>\n      <td>3.516598</td>\n    </tr>\n    <tr>\n      <th>31</th>\n      <td>Drunken Lechon Macau - Mucho</td>\n      <td>Yangchow Fried Rice - Mucho</td>\n      <td>0.002030</td>\n      <td>0.249684</td>\n      <td>3.459010</td>\n    </tr>\n    <tr>\n      <th>32</th>\n      <td>Lumpiang Shanghai - Mucho</td>\n      <td>Iced tea - pitcher</td>\n      <td>0.004726</td>\n      <td>0.333655</td>\n      <td>3.336726</td>\n    </tr>\n    <tr>\n      <th>33</th>\n      <td>Lumpiang Shanghai - Mucho</td>\n      <td>Yangchow Fried Rice - Familia</td>\n      <td>0.008912</td>\n      <td>0.332950</td>\n      <td>3.329668</td>\n    </tr>\n    <tr>\n      <th>34</th>\n      <td>Drunken Lechon Macau - Mucho</td>\n      <td>Yangchow Fried Rice - Mucho</td>\n      <td>0.001831</td>\n      <td>0.349217</td>\n      <td>3.326028</td>\n    </tr>\n    <tr>\n      <th>35</th>\n      <td>Yangchow Fried Rice - Mucho</td>\n      <td>Pork Siomai</td>\n      <td>0.001899</td>\n      <td>0.315162</td>\n      <td>3.246336</td>\n    </tr>\n    <tr>\n      <th>36</th>\n      <td>Yangchow Fried Rice - Mucho</td>\n      <td>Pugon-Roasted Asado 1/4 kilo</td>\n      <td>0.001708</td>\n      <td>0.339456</td>\n      <td>3.233062</td>\n    </tr>\n    <tr>\n      <th>37</th>\n      <td>Yangchow Fried Rice - Familia</td>\n      <td>Manchurian Wings - Mucho</td>\n      <td>0.005733</td>\n      <td>0.214167</td>\n      <td>3.218784</td>\n    </tr>\n    <tr>\n      <th>38</th>\n      <td>Drunken Lechon Macau - Mucho</td>\n      <td>Yangchow Fried Rice - Mucho</td>\n      <td>0.001947</td>\n      <td>0.332943</td>\n      <td>3.171035</td>\n    </tr>\n    <tr>\n      <th>39</th>\n      <td>Yangchow Fried Rice - Mucho</td>\n      <td>Pugon-Roasted Asado 1/4 kilo</td>\n      <td>0.001845</td>\n      <td>0.332101</td>\n      <td>3.163014</td>\n    </tr>\n    <tr>\n      <th>40</th>\n      <td>Lumpiang Shanghai - Mucho</td>\n      <td>Pugon-Roasted Asado 1/4 kilo</td>\n      <td>0.002122</td>\n      <td>0.314402</td>\n      <td>3.144178</td>\n    </tr>\n    <tr>\n      <th>41</th>\n      <td>Lumpiang Shanghai - Mucho</td>\n      <td>Garlic Rice - Familia</td>\n      <td>0.001804</td>\n      <td>0.309818</td>\n      <td>3.098337</td>\n    </tr>\n    <tr>\n      <th>42</th>\n      <td>Lumpiang Shanghai - Mucho</td>\n      <td>Yangchow Fried Rice - Mucho</td>\n      <td>0.001763</td>\n      <td>0.322884</td>\n      <td>3.075229</td>\n    </tr>\n    <tr>\n      <th>43</th>\n      <td>Lumpiang Shanghai - Mucho</td>\n      <td>BFFR familia</td>\n      <td>0.002146</td>\n      <td>0.307353</td>\n      <td>3.073687</td>\n    </tr>\n    <tr>\n      <th>44</th>\n      <td>Drunken Lechon Macau - Mucho</td>\n      <td>Yangchow Fried Rice - Mucho</td>\n      <td>0.002971</td>\n      <td>0.319941</td>\n      <td>3.047199</td>\n    </tr>\n    <tr>\n      <th>45</th>\n      <td>Fried Chicken (whole)</td>\n      <td>Drunken Lechon Macau - Mucho</td>\n      <td>0.003378</td>\n      <td>0.217833</td>\n      <td>3.017754</td>\n    </tr>\n    <tr>\n      <th>46</th>\n      <td>Drunken Lechon Macau - Mucho</td>\n      <td>Yangchow Fried Rice - Mucho</td>\n      <td>0.002119</td>\n      <td>0.315494</td>\n      <td>3.004848</td>\n    </tr>\n  </tbody>\n</table>\n</div>"
     },
     "metadata": {},
     "execution_count": 9
    }
   ],
   "source": [
    "'''\n",
    "ex. base_item : Kung pao chicken, added_item : mango jello promo\n",
    "support - probability of \"kung pao chicken\" to be ordered is 0.3%\n",
    "confidence - probability of \"kung pao chicken\" to be ordered when customer orders \"mango jello promo\" is 24%\n",
    "lift - customers are 71 times more likely to order \"kung pao chicken\" when they order \"mango jello promo\"\n",
    "=> suggest \"kung pao chicken\" when customer order \"mango jello promo\"\n",
    "\n",
    "**suggest base_item when customer orders base_item\n",
    "'''\n",
    "res_df = get_result(association_results)\n",
    "res_df"
   ]
  },
  {
   "source": [
    "## How to make a use of the results?\n",
    "- Pick a few most associated items for each product  \n",
    "-> suggest the associated items when customer orders the product\n",
    "\n",
    "## Improvements to be made\n",
    "- add more input data\n",
    "- when pick the suggestion, consider suggested item's price (put more weight on items with higher price?)\n",
    "- do different stores have different tendencies? or more ore less the same?\n",
    "- can I take other elements (like number of customers, age, weather, time, etc) into account to improve the accuracy of suggestion?\n",
    "- how do the results change if I disregard the size (solo, mucho, familia..)?"
   ],
   "cell_type": "markdown",
   "metadata": {}
  }
 ]
}